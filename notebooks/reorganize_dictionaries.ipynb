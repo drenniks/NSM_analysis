{
 "cells": [
  {
   "cell_type": "code",
   "execution_count": 1,
   "id": "47cf492d",
   "metadata": {},
   "outputs": [],
   "source": [
    "import json\n",
    "import numpy as np"
   ]
  },
  {
   "cell_type": "code",
   "execution_count": 2,
   "id": "4c451055",
   "metadata": {},
   "outputs": [],
   "source": [
    "with open('massive_prog_info.json') as f:\n",
    "    massive_prog = json.load(f)\n",
    "\n",
    "with open('run_halos.json') as f:\n",
    "    run_halos = json.load(f)\n",
    "    \n",
    "with open('halo_quantities.json') as f:\n",
    "    halo_quantities = json.load(f)\n",
    "    \n",
    "with open('star_info.json') as f:\n",
    "    star_info = json.load(f)"
   ]
  },
  {
   "cell_type": "code",
   "execution_count": 46,
   "id": "9bba3e01",
   "metadata": {},
   "outputs": [],
   "source": [
    "sorted_keys_haloquantities = np.sort(list(halo_quantities['run_original'].keys()))\n",
    "sorted_keys_runhalos = np.sort(list(run_halos['run_original'].keys()))\n",
    "sorted_keys_starinfo = np.sort(list(star_info['run_original'].keys()))\n",
    "sorted_keys_massiveprog = np.sort(list(massive_prog.keys()))\n",
    "\n",
    "new_massive_prog = {}\n",
    "new_run_halos = {}\n",
    "new_halo_quantities = {}\n",
    "new_star_info = {}\n",
    "\n",
    "for i, run_name in enumerate(halo_quantities):\n",
    "    new_run_halos[run_name] = {}\n",
    "    new_halo_quantities[run_name] = {}\n",
    "    new_star_info[run_name] = {}\n",
    "    if run_name == 'run_original':\n",
    "        for j, o in enumerate(sorted_keys_runhalos):\n",
    "            new_run_halos[run_name][o] = run_halos[run_name][o]\n",
    "        for j, o in enumerate(sorted_keys_haloquantities): \n",
    "            new_halo_quantities[run_name][o] = halo_quantities[run_name][o]\n",
    "        for j, o in enumerate(sorted_keys_starinfo):\n",
    "            new_star_info[run_name][o] = star_info[run_name][o]\n",
    "    else:\n",
    "        for j, o in enumerate(halo_quantities[run_name]):\n",
    "            new_run_halos[run_name][o] = run_halos[run_name][o]\n",
    "            new_halo_quantities[run_name][o] = halo_quantities[run_name][o]\n",
    "            new_star_info[run_name][o] = star_info[run_name][o]\n",
    "\n",
    "for i, o in enumerate(sorted_keys_massiveprog):\n",
    "    new_massive_prog[o] = massive_prog[o]"
   ]
  },
  {
   "cell_type": "code",
   "execution_count": 49,
   "id": "8fae22e8",
   "metadata": {},
   "outputs": [],
   "source": [
    "with open('massive_prog_info.json', 'w') as outfile:\n",
    "        json.dump(new_massive_prog, outfile)\n",
    "with open('run_halos.json', 'w') as outfile:\n",
    "        json.dump(new_run_halos, outfile)\n",
    "with open('halo_quantities.json', 'w') as outfile:\n",
    "        json.dump(new_halo_quantities, outfile)\n",
    "with open('star_info.json', 'w') as outfile:\n",
    "        json.dump(new_star_info, outfile)"
   ]
  },
  {
   "cell_type": "code",
   "execution_count": null,
   "id": "6ef3dc3f",
   "metadata": {},
   "outputs": [],
   "source": []
  }
 ],
 "metadata": {
  "kernelspec": {
   "display_name": "Python 3 (ipykernel)",
   "language": "python",
   "name": "python3"
  },
  "language_info": {
   "codemirror_mode": {
    "name": "ipython",
    "version": 3
   },
   "file_extension": ".py",
   "mimetype": "text/x-python",
   "name": "python",
   "nbconvert_exporter": "python",
   "pygments_lexer": "ipython3",
   "version": "3.10.4"
  }
 },
 "nbformat": 4,
 "nbformat_minor": 5
}
