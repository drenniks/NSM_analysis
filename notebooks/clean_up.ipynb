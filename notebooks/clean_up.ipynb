{
 "cells": [
  {
   "cell_type": "code",
   "execution_count": 2,
   "id": "d2db18f0",
   "metadata": {},
   "outputs": [],
   "source": [
    "import json\n",
    "import os"
   ]
  },
  {
   "cell_type": "code",
   "execution_count": 12,
   "id": "5fa49079",
   "metadata": {},
   "outputs": [
    {
     "ename": "KeyError",
     "evalue": "'run_A'",
     "output_type": "error",
     "traceback": [
      "\u001b[0;31m---------------------------------------------------------------------------\u001b[0m",
      "\u001b[0;31mKeyError\u001b[0m                                  Traceback (most recent call last)",
      "\u001b[0;32m/tmp/ipykernel_26820/1542281932.py\u001b[0m in \u001b[0;36m<module>\u001b[0;34m\u001b[0m\n\u001b[1;32m      2\u001b[0m     \u001b[0mdict\u001b[0m \u001b[0;34m=\u001b[0m \u001b[0mjson\u001b[0m\u001b[0;34m.\u001b[0m\u001b[0mload\u001b[0m\u001b[0;34m(\u001b[0m\u001b[0mf\u001b[0m\u001b[0;34m)\u001b[0m\u001b[0;34m\u001b[0m\u001b[0;34m\u001b[0m\u001b[0m\n\u001b[1;32m      3\u001b[0m \u001b[0;34m\u001b[0m\u001b[0m\n\u001b[0;32m----> 4\u001b[0;31m \u001b[0mdict\u001b[0m\u001b[0;34m[\u001b[0m\u001b[0;34m'run_A'\u001b[0m\u001b[0;34m]\u001b[0m\u001b[0;34m[\u001b[0m\u001b[0;34m'0100'\u001b[0m\u001b[0;34m]\u001b[0m\u001b[0;34m[\u001b[0m\u001b[0;34m'star_info'\u001b[0m\u001b[0;34m]\u001b[0m\u001b[0;34m[\u001b[0m\u001b[0;34m'P2'\u001b[0m\u001b[0;34m]\u001b[0m\u001b[0;34m.\u001b[0m\u001b[0mkeys\u001b[0m\u001b[0;34m(\u001b[0m\u001b[0;34m)\u001b[0m\u001b[0;34m\u001b[0m\u001b[0;34m\u001b[0m\u001b[0m\n\u001b[0m",
      "\u001b[0;31mKeyError\u001b[0m: 'run_A'"
     ]
    }
   ],
   "source": [
    "with open('star_info_temp.json', 'r') as f:\n",
    "    dict = json.load(f)\n",
    "    \n",
    "dict['run_A']['0100']['star_info']['P2'].keys()"
   ]
  },
  {
   "cell_type": "code",
   "execution_count": 5,
   "id": "0a183861",
   "metadata": {
    "scrolled": false
   },
   "outputs": [
    {
     "name": "stdout",
     "output_type": "stream",
     "text": [
      "star_info_with_vel.json\n",
      "dict_keys(['run_A', 'run_B', 'run_C', 'run_D', 'run_E', 'run_data', 'run_fiducial', 'run_original'])\n",
      "\n",
      "\n",
      "DD_data_OG.json\n",
      "dict_keys(['0000', '0002', '0003', '0004', '0005', '0006', '0007', '0008', '0009', '0010', '0011', '0012', '0013', '0014', '0015', '0016', '0017', '0018', '0019', '0020', '0021', '0022', '0023', '0024', '0025', '0026', '0027', '0028', '0029', '0030', '0031', '0032', '0033', '0034', '0035', '0036', '0037', '0038', '0039', '0040', '0041', '0042', '0043', '0044', '0045', '0046', '0047', '0048', '0049', '0050', '0051', '0052', '0053', '0054', '0055', '0056', '0057', '0058', '0059', '0060', '0061', '0062', '0063', '0064', '0065', '0066', '0067', '0068', '0069', '0070', '0071', '0072', '0073', '0074', '0075', '0076', '0077', '0078', '0079', '0080', '0081', '0082', '0083', '0084', '0085', '0086', '0087', '0088', '0089', '0090', '0091', '0092', '0093', '0094', '0095', '0096', '0097', '0098', '0099', '0100', '0101', '0102', '0103', '0104', '0105', '0106', '0107', '0108', '0109', '0110', '0111', '0112', '0113', '0114', '0115', '0116', '0117', '0118', '0119', '0120', '0121', '0122', '0123', '0124', '0125', '0126', '0127', '0128', '0129', '0130', '0131', '0132', '0133', '0134', '0135', '0136', '0137', '0138', '0139', '0140', '0141', '0142', '0143', '0144', '0145', '0146', '0147', '0148', '0149', '0150', '0151', '0152', '0153', '0154', '0155', '0156', '0157', '0158', '0159', '0160', '0161', '0162', '0163', '0164', '0165', '0166', '0167', '0168', '0169', '0170', '0171', '0172', '0173', '0174', '0175', '0176', '0177', '0178', '0179', '0180', '0181', '0182', '0183', '0184', '0185', '0186', '0187', '0188', '0189', '0190'])\n",
      "\n",
      "\n",
      "run_halos_incl_vir.json\n",
      "dict_keys(['run_A', 'run_B', 'run_C', 'run_D', 'run_E', 'run_fiducial', 'run_original'])\n",
      "\n",
      "\n",
      "star_info_old.json\n",
      "dict_keys(['run_A', 'run_B', 'run_C', 'run_D', 'run_E', 'run_data', 'run_fiducial', 'run_original'])\n",
      "\n",
      "\n",
      "raw_data_grab.json\n",
      "dict_keys(['run_original_0035', 'run_original_0036', 'run_original_0037', 'run_original_0033', 'run_original_0034', 'run_original_0032', 'run_original_0030', 'run_original_0029', 'run_original_0031', 'run_original_0028', 'run_original_0027', 'run_original_0026', 'run_original_0025', 'run_original_0024', 'run_original_0023', 'run_original_0038', 'run_original_0039', 'run_original_0040', 'run_original_0041', 'run_original_0042', 'run_original_0043', 'run_original_0044', 'run_original_0045', 'run_original_0046', 'run_original_0047', 'run_original_0048', 'run_original_0049', 'run_original_0050', 'run_original_0051', 'run_original_0052', 'run_original_0053', 'run_original_0054', 'run_original_0055', 'run_original_0056', 'run_original_0057', 'run_original_0058', 'run_original_0059', 'run_original_0060', 'run_original_0061', 'run_original_0062', 'run_original_0063', 'run_original_0064', 'run_original_0065', 'run_original_0066', 'run_original_0067', 'run_original_0068', 'run_original_0069', 'run_original_0070', 'run_original_0071', 'run_original_0072', 'run_original_0073', 'run_original_0074', 'run_original_0075', 'run_original_0076', 'run_original_0077', 'run_original_0078', 'run_original_0079', 'run_original_0080', 'run_original_0081', 'run_original_0082', 'run_original_0083', 'run_original_0084', 'run_original_0085', 'run_original_0086', 'run_original_0087', 'run_original_0088', 'run_original_0089', 'run_original_0090', 'run_original_0091', 'run_original_0092', 'run_original_0093', 'run_original_0094', 'run_original_0095', 'run_original_0096', 'run_original_0097', 'run_original_0098', 'run_original_0099', 'run_original_0100', 'run_original_0101', 'run_original_0103', 'run_original_0102', 'run_original_0104', 'run_original_0105', 'run_original_0106', 'run_original_0107', 'run_original_0108', 'run_original_0109', 'run_original_0110', 'run_original_0111', 'run_original_0112', 'run_original_0113', 'run_original_0114', 'run_original_0115', 'run_original_0116', 'run_original_0117', 'run_original_0118', 'run_original_0119', 'run_original_0120', 'run_original_0121', 'run_original_0122', 'run_original_0123', 'run_original_0124', 'run_original_0125', 'run_original_0126', 'run_original_0127', 'run_original_0128', 'run_original_0129', 'run_original_0130', 'run_original_0131', 'run_original_0132', 'run_original_0133', 'run_original_0134', 'run_original_0135', 'run_original_0136', 'run_original_0137', 'run_original_0138', 'run_original_0139', 'run_original_0140', 'run_original_0141', 'run_original_0142', 'run_original_0143', 'run_original_0144', 'run_original_0145', 'run_original_0146', 'run_original_0147', 'run_original_0148', 'run_original_0149', 'run_original_0151', 'run_original_0150', 'run_original_0152', 'run_original_0153', 'run_original_0154', 'run_original_0155', 'run_original_0156', 'run_original_0157', 'run_original_0158', 'run_original_0159', 'run_original_0160', 'run_original_0161', 'run_original_0162', 'run_original_0163', 'run_original_0164', 'run_original_0165', 'run_original_0166', 'run_original_0167', 'run_original_0168', 'run_original_0169', 'run_original_0170', 'run_original_0172', 'run_original_0171', 'run_original_0173', 'run_original_0174', 'run_original_0175', 'run_original_0176', 'run_original_0177', 'run_original_0178', 'run_original_0179', 'run_original_0180', 'run_original_0182', 'run_original_0181', 'run_original_0184', 'run_original_0185', 'run_original_0183', 'run_original_0187', 'run_original_0186', 'run_original_0188', 'run_fiducial_0023', 'run_fiducial_0024', 'run_fiducial_0025', 'run_original_0189', 'run_fiducial_0026', 'run_fiducial_0027', 'run_fiducial_0028', 'run_fiducial_0029', 'run_fiducial_0030', 'run_fiducial_0031', 'run_fiducial_0032', 'run_fiducial_0033', 'run_fiducial_0034', 'run_original_0190', 'run_fiducial_0035', 'run_fiducial_0036', 'run_fiducial_0037', 'run_fiducial_0038', 'run_fiducial_0039', 'run_fiducial_0040', 'run_fiducial_0041', 'run_fiducial_0042', 'run_fiducial_0043', 'run_fiducial_0044', 'run_fiducial_0045', 'run_fiducial_0046', 'run_fiducial_0047', 'run_fiducial_0048', 'run_fiducial_0049', 'run_fiducial_0050', 'run_fiducial_0051', 'run_fiducial_0052', 'run_fiducial_0053', 'run_fiducial_0054', 'run_fiducial_0055', 'run_fiducial_0056', 'run_fiducial_0057', 'run_fiducial_0058', 'run_fiducial_0059', 'run_fiducial_0060', 'run_fiducial_0061', 'run_fiducial_0062', 'run_fiducial_0063', 'run_fiducial_0064', 'run_fiducial_0065', 'run_fiducial_0066', 'run_fiducial_0067', 'run_fiducial_0068', 'run_fiducial_0069', 'run_fiducial_0070', 'run_fiducial_0071', 'run_fiducial_0072', 'run_fiducial_0073', 'run_fiducial_0074', 'run_fiducial_0075', 'run_fiducial_0076', 'run_fiducial_0077', 'run_fiducial_0078', 'run_fiducial_0079', 'run_fiducial_0080', 'run_fiducial_0081', 'run_fiducial_0082', 'run_fiducial_0083', 'run_fiducial_0084', 'run_fiducial_0085', 'run_fiducial_0086', 'run_fiducial_0087', 'run_fiducial_0088', 'run_fiducial_0089', 'run_fiducial_0090', 'run_fiducial_0091', 'run_fiducial_0092', 'run_fiducial_0093', 'run_fiducial_0094', 'run_fiducial_0095', 'run_fiducial_0096', 'run_fiducial_0097', 'run_fiducial_0098', 'run_A_0023', 'run_A_0024', 'run_A_0025', 'run_A_0026', 'run_A_0027', 'run_A_0028', 'run_A_0029', 'run_A_0030', 'run_A_0031', 'run_fiducial_0099', 'run_fiducial_0100', 'run_A_0032', 'run_A_0033', 'run_A_0034', 'run_A_0035', 'run_A_0037', 'run_A_0036', 'run_A_0038', 'run_A_0039', 'run_A_0040', 'run_A_0041', 'run_A_0042', 'run_A_0043', 'run_A_0044', 'run_A_0045', 'run_A_0046', 'run_A_0047', 'run_A_0048', 'run_A_0049', 'run_A_0050', 'run_A_0051', 'run_A_0052', 'run_A_0053', 'run_A_0054', 'run_A_0055', 'run_A_0056', 'run_A_0057', 'run_A_0058', 'run_A_0059', 'run_A_0060', 'run_A_0061', 'run_A_0062', 'run_A_0063', 'run_A_0064', 'run_A_0065', 'run_A_0066', 'run_A_0067', 'run_A_0068', 'run_A_0069', 'run_A_0070', 'run_A_0071', 'run_A_0072', 'run_A_0073', 'run_A_0074', 'run_A_0075', 'run_A_0076', 'run_A_0077', 'run_A_0078', 'run_A_0079', 'run_A_0080', 'run_A_0081', 'run_A_0082', 'run_A_0083', 'run_A_0084', 'run_A_0085', 'run_A_0086', 'run_A_0087', 'run_A_0088', 'run_A_0089', 'run_A_0090', 'run_A_0091', 'run_A_0092', 'run_A_0093', 'run_A_0094', 'run_A_0095', 'run_A_0096', 'run_A_0097', 'run_A_0098', 'run_B_0023', 'run_A_0099', 'run_B_0024', 'run_B_0025', 'run_B_0026', 'run_B_0027', 'run_B_0028', 'run_B_0029', 'run_B_0030', 'run_B_0031', 'run_B_0032', 'run_B_0033', 'run_B_0034', 'run_B_0035', 'run_B_0036', 'run_B_0037', 'run_A_0100', 'run_B_0038', 'run_B_0039', 'run_B_0040', 'run_B_0041', 'run_B_0042', 'run_B_0043', 'run_B_0044', 'run_B_0045', 'run_B_0046', 'run_B_0047', 'run_B_0048', 'run_B_0049', 'run_B_0050', 'run_B_0051', 'run_B_0052', 'run_B_0053', 'run_B_0054', 'run_B_0055', 'run_B_0056', 'run_B_0057', 'run_B_0058', 'run_B_0059', 'run_B_0060', 'run_B_0061', 'run_B_0062', 'run_B_0063', 'run_B_0064', 'run_B_0065', 'run_B_0066', 'run_B_0068', 'run_B_0069', 'run_B_0070', 'run_B_0071', 'run_B_0072', 'run_B_0073', 'run_B_0074', 'run_B_0075', 'run_B_0076', 'run_B_0077', 'run_B_0078', 'run_B_0079', 'run_B_0080', 'run_B_0081', 'run_B_0082', 'run_B_0083', 'run_B_0084', 'run_B_0085', 'run_B_0086', 'run_B_0087', 'run_B_0088', 'run_B_0089', 'run_B_0090', 'run_B_0091', 'run_B_0092', 'run_B_0093', 'run_B_0094', 'run_B_0095', 'run_B_0096', 'run_B_0097', 'run_B_0098', 'run_D_0023', 'run_D_0024', 'run_D_0025', 'run_D_0026', 'run_D_0027', 'run_D_0028', 'run_B_0099', 'run_D_0029', 'run_D_0030', 'run_D_0031', 'run_D_0032', 'run_D_0033', 'run_B_0100', 'run_D_0034', 'run_D_0035', 'run_D_0036', 'run_D_0037', 'run_D_0039', 'run_D_0038', 'run_D_0040', 'run_D_0041', 'run_D_0042', 'run_D_0043', 'run_D_0044', 'run_D_0045', 'run_D_0046', 'run_D_0047', 'run_D_0048', 'run_D_0049', 'run_D_0050', 'run_D_0051', 'run_D_0052', 'run_D_0053', 'run_D_0054', 'run_D_0055', 'run_D_0056', 'run_D_0057', 'run_D_0058', 'run_D_0059', 'run_D_0060', 'run_D_0061', 'run_D_0062', 'run_D_0063', 'run_D_0064', 'run_D_0065', 'run_D_0066', 'run_D_0067', 'run_D_0068', 'run_D_0069', 'run_D_0070', 'run_D_0071', 'run_D_0072', 'run_D_0073', 'run_D_0074', 'run_D_0075', 'run_D_0076', 'run_D_0077', 'run_D_0078', 'run_D_0079', 'run_D_0080', 'run_D_0081', 'run_D_0082', 'run_D_0083', 'run_D_0084', 'run_D_0085', 'run_D_0086', 'run_D_0087', 'run_D_0088', 'run_D_0089', 'run_D_0090', 'run_D_0091', 'run_D_0092', 'run_D_0093', 'run_D_0094', 'run_D_0095', 'run_D_0096', 'run_D_0097', 'run_D_0099', 'run_D_0098', 'run_E_0023', 'run_E_0024', 'run_E_0025', 'run_E_0026', 'run_E_0027', 'run_E_0028', 'run_E_0029', 'run_E_0030', 'run_E_0031', 'run_E_0032', 'run_E_0033', 'run_E_0034', 'run_E_0035', 'run_E_0036', 'run_E_0037', 'run_D_0100', 'run_E_0038', 'run_E_0039', 'run_E_0040', 'run_E_0041', 'run_E_0042', 'run_E_0043', 'run_E_0044', 'run_E_0045', 'run_E_0046', 'run_E_0047', 'run_E_0048', 'run_E_0049', 'run_E_0050', 'run_E_0051', 'run_E_0052', 'run_E_0053', 'run_E_0054', 'run_E_0055', 'run_E_0056', 'run_E_0057', 'run_E_0058', 'run_E_0059', 'run_E_0060', 'run_E_0061', 'run_E_0062', 'run_E_0063', 'run_E_0064', 'run_E_0065', 'run_E_0066', 'run_E_0067', 'run_E_0068', 'run_E_0069', 'run_E_0070', 'run_E_0071', 'run_E_0072', 'run_E_0073', 'run_E_0074', 'run_E_0075', 'run_E_0076', 'run_E_0077', 'run_E_0078', 'run_E_0079', 'run_E_0080', 'run_E_0081', 'run_E_0082', 'run_E_0083', 'run_E_0084', 'run_E_0085', 'run_E_0086', 'run_E_0087', 'run_E_0088', 'run_E_0089', 'run_E_0090', 'run_E_0091', 'run_E_0092', 'run_E_0093', 'run_E_0094', 'run_E_0095', 'run_E_0096', 'run_E_0097', 'run_E_0098', 'run_E_0099', 'run_E_0100'])\n",
      "\n",
      "\n",
      "halo_quantities.json\n",
      "dict_keys(['run_original', 'run_fiducial', 'run_A', 'run_B', 'run_D', 'run_E'])\n",
      "\n",
      "\n",
      "massive_prog_info_old.json\n",
      "dict_keys(['0125', '0124', '0123', '0122', '0121', '0120', '0119', '0118', '0117', '0116', '0115', '0114', '0113', '0112', '0111', '0110', '0109', '0108', '0107', '0106', '0105', '0104', '0103', '0102', '0101', '0100', '0099', '0098', '0097', '0096', '0095', '0094', '0093', '0092', '0091', '0090', '0089', '0088', '0087', '0086', '0085', '0084', '0083', '0082', '0081', '0080', '0079', '0078', '0077', '0076', '0075', '0074', '0073', '0072', '0071', '0070', '0069', '0068', '0067', '0066', '0065', '0064', '0063', '0062', '0061', '0060', '0059', '0058', '0057', '0056', '0055', '0054', '0053', '0052', '0051', '0050', '0049', '0048', '0047', '0046', '0045', '0044', '0043', '0042', '0041', '0040', '0039', '0038', '0037', '0036', '0035', '0034', '0033', '0032', '0031', '0030', '0029', '0028', '0027', '0026', '0025'])\n",
      "\n",
      "\n",
      "unit_conversion.json\n",
      "dict_keys(['run_original', 'run_fiducial', 'run_A', 'run_B', 'run_C', 'run_D', 'run_E'])\n",
      "\n",
      "\n",
      "massive_prog_info.json\n",
      "dict_keys(['0189', '0187', '0185', '0184', '0182', '0180', '0179', '0178', '0177', '0176', '0175', '0174', '0173', '0172', '0170', '0169', '0168', '0167', '0166', '0165', '0164', '0163', '0162', '0161', '0160', '0159', '0158', '0157', '0156', '0155', '0154', '0153', '0152', '0151', '0150', '0149', '0148', '0147', '0146', '0145', '0144', '0143', '0142', '0141', '0140', '0139', '0138', '0137', '0136', '0135', '0134', '0133', '0132', '0131', '0130', '0129', '0128', '0127', '0126', '0125', '0124', '0123', '0122', '0121', '0120', '0119', '0118', '0117', '0116', '0115', '0114', '0113', '0112', '0111', '0110', '0109', '0108', '0107', '0106', '0105', '0104', '0103', '0102', '0101', '0100', '0099', '0098', '0097', '0096', '0095', '0094', '0093', '0092', '0091', '0090', '0089', '0088', '0087', '0086', '0085', '0084', '0083', '0082', '0081', '0080', '0079', '0078', '0077', '0076', '0075', '0074', '0073', '0072', '0071', '0070', '0069', '0068', '0067', '0066', '0065', '0064', '0063', '0062', '0061', '0060', '0059', '0058', '0057', '0056', '0055', '0054', '0053', '0052', '0051', '0050', '0049', '0048', '0047', '0046', '0045', '0044', '0043', '0042', '0041', '0040', '0039', '0038', '0037', '0036', '0035', '0034', '0033', '0032', '0031', '0030', '0029', '0028', '0027', '0026', '0025', '0024', '0023'])\n",
      "\n",
      "\n",
      "star_info_vel.json\n",
      "dict_keys(['run_A', 'run_B', 'run_C', 'run_D', 'run_E', 'run_data', 'run_fiducial', 'run_original'])\n",
      "\n",
      "\n",
      "star_info.json\n"
     ]
    },
    {
     "name": "stdout",
     "output_type": "stream",
     "text": [
      "dict_keys(['run_original', 'run_fiducial', 'run_A', 'run_B', 'run_D', 'run_E'])\n",
      "\n",
      "\n",
      "stellar_energy.json\n",
      "dict_keys(['run_A', 'run_B', 'run_C', 'run_D', 'run_E', 'run_data', 'run_fiducial', 'run_original'])\n",
      "\n",
      "\n",
      "run_DD_data.json\n",
      "dict_keys(['run_A', 'run_B', 'run_C', 'run_D', 'run_E', 'run_fiducial', 'run_original'])\n",
      "\n",
      "\n",
      "inside_outside.json\n",
      "dict_keys(['run_original', 'run_D', 'run_fiducial', 'run_E'])\n",
      "\n",
      "\n",
      "run_halos.json\n",
      "dict_keys(['run_A', 'run_B', 'run_C', 'run_D', 'run_E', 'run_data', 'run_fiducial', 'run_original'])\n",
      "\n",
      "\n",
      "min_max_10.json\n",
      "dict_keys(['738498.0', '738535.0', '738536.0', '738847.0'])\n",
      "\n",
      "\n",
      "star_info_fixed.json\n",
      "dict_keys(['run_original', 'run_fiducial', 'run_A', 'run_B', 'run_D', 'run_E'])\n",
      "\n",
      "\n",
      "halo_quantities_old.json\n",
      "dict_keys(['run_A', 'run_B', 'run_C', 'run_D', 'run_E', 'run_data', 'run_fiducial', 'run_original'])\n",
      "\n",
      "\n",
      "run_halos_old.json\n",
      "dict_keys(['run_A', 'run_B', 'run_C', 'run_D', 'run_E', 'run_fiducial', 'run_original'])\n",
      "\n",
      "\n",
      "stellar_energy_old.json\n",
      "dict_keys(['run_A', 'run_B', 'run_C', 'run_D', 'run_E', 'run_data', 'run_fiducial', 'run_original'])\n",
      "\n",
      "\n",
      "temp_run_info.json\n",
      "dict_keys(['run_C', 'run_A', 'run_B', 'run_D', 'run_fiducial', 'run_E'])\n",
      "\n",
      "\n",
      "potential_p3_info.json\n",
      "dict_keys(['0025', '0026', '0027', '0028', '0029', '0030', '0031', '0032', '0033', '0034', '0035', '0036', '0037', '0038', '0039', '0040', '0041', '0042', '0043', '0044', '0045', '0046', '0047', '0048', '0049', '0050', '0051', '0052', '0053', '0054', '0055', '0056', '0057', '0058', '0059', '0060', '0061', '0062', '0063', '0064', '0065', '0066', '0067', '0068', '0069', '0070', '0071', '0072', '0073', '0074', '0075', '0076', '0077', '0078', '0079', '0080', '0081', '0082', '0083', '0084', '0085', '0086', '0087', '0088', '0089', '0090', '0091', '0092', '0093', '0094', '0095', '0096', '0097', '0098', '0099', '0100', '0101', '0102', '0103', '0104', '0105', '0106', '0107', '0108', '0109', '0110', '0111', '0112', '0113', '0114', '0115', '0116', '0117', '0118', '0119', '0120', '0121', '0122', '0123', '0124', '0125'])\n",
      "\n",
      "\n",
      "massive_prog_info_old2.json\n",
      "dict_keys(['0025', '0026', '0027', '0028', '0029', '0030', '0031', '0032', '0033', '0034', '0035', '0036', '0037', '0038', '0039', '0040', '0041', '0042', '0043', '0044', '0045', '0046', '0047', '0048', '0049', '0050', '0051', '0052', '0053', '0054', '0055', '0056', '0057', '0058', '0059', '0060', '0061', '0062', '0063', '0064', '0065', '0066', '0067', '0068', '0069', '0070', '0071', '0072', '0073', '0074', '0075', '0076', '0077', '0078', '0079', '0080', '0081', '0082', '0083', '0084', '0085', '0086', '0087', '0088', '0089', '0090', '0091', '0092', '0093', '0094', '0095', '0096', '0097', '0098', '0099', '0100', '0101', '0102', '0103', '0104', '0105', '0106', '0107', '0108', '0109', '0110', '0111', '0112', '0113', '0114', '0115', '0116', '0117', '0118', '0119', '0120', '0121', '0122', '0123', '0124', '0125'])\n",
      "\n",
      "\n",
      "massive_prog_info_incl_vir.json\n",
      "dict_keys(['0189', '0187', '0185', '0184', '0182', '0180', '0179', '0178', '0177', '0176', '0175', '0174', '0173', '0172', '0170', '0169', '0168', '0167', '0166', '0165', '0164', '0163', '0162', '0161', '0160', '0159', '0158', '0157', '0156', '0155', '0154', '0153', '0152', '0151', '0150', '0149', '0148', '0147', '0146', '0145', '0144', '0143', '0142', '0141', '0140', '0139', '0138', '0137', '0136', '0135', '0134', '0133', '0132', '0131', '0130', '0129', '0128', '0127', '0126', '0125', '0124', '0123', '0122', '0121', '0120', '0119', '0118', '0117', '0116', '0115', '0114', '0113', '0112', '0111', '0110', '0109', '0108', '0107', '0106', '0105', '0104', '0103', '0102', '0101', '0100', '0099', '0098', '0097', '0096', '0095', '0094', '0093', '0092', '0091', '0090', '0089', '0088', '0087', '0086', '0085', '0084', '0083', '0082', '0081', '0080', '0079', '0078', '0077', '0076', '0075', '0074', '0073', '0072', '0071', '0070', '0069', '0068', '0067', '0066', '0065', '0064', '0063', '0062', '0061', '0060', '0059', '0058', '0057', '0056', '0055', '0054', '0053', '0052', '0051', '0050', '0049', '0048', '0047', '0046', '0045', '0044', '0043', '0042', '0041', '0040', '0039', '0038', '0037', '0036', '0035', '0034', '0033', '0032', '0031', '0030', '0029', '0028', '0027', '0026', '0025', '0024', '0023'])\n",
      "\n",
      "\n",
      "param_info.json\n",
      "dict_keys(['run_A', 'run_B', 'run_C', 'run_D', 'run_E', 'run_fiducial', 'run_original'])\n",
      "\n",
      "\n",
      "DD_data.json\n",
      "dict_keys(['0000', '0002', '0003', '0004', '0005', '0006', '0007', '0008', '0009', '0010', '0011', '0012', '0013', '0014', '0015', '0016', '0017', '0018', '0019', '0020', '0021', '0022', '0023', '0024', '0025', '0026', '0027', '0028', '0029', '0030', '0031', '0032', '0033', '0034', '0035', '0036', '0037', '0038', '0039', '0040', '0041', '0042', '0043', '0044', '0045', '0046', '0047', '0048', '0049', '0050', '0051', '0052', '0053', '0054', '0055', '0056', '0057', '0058', '0059', '0060', '0061', '0062', '0063', '0064', '0065', '0066', '0067', '0068', '0069', '0070', '0071', '0072', '0073', '0074', '0075', '0076', '0077', '0078', '0079', '0080', '0081', '0082', '0083', '0084', '0085', '0086', '0087', '0088', '0089', '0090', '0091', '0092', '0093', '0094', '0095', '0096', '0097', '0098', '0099', '0100', '0101', '0102', '0103', '0104', '0105', '0106', '0107', '0108', '0109', '0110', '0111', '0112', '0113', '0114', '0115', '0116', '0117', '0118', '0119', '0120', '0121', '0122', '0123', '0124', '0125'])\n",
      "\n",
      "\n",
      "star_info_temp.json\n",
      "dict_keys(['run_A_0037', 'run_A_0038', 'run_A_0039', 'run_A_0040', 'run_A_0041', 'run_A_0042', 'run_A_0043', 'run_A_0044', 'run_A_0045', 'run_A_0046', 'run_A_0047', 'run_A_0048', 'run_A_0049', 'run_A_0050', 'run_A_0052', 'run_A_0051', 'run_A_0054', 'run_A_0053', 'run_A_0055', 'run_A_0056', 'run_A_0057', 'run_A_0058', 'run_A_0059', 'run_A_0060', 'run_A_0061', 'run_A_0062', 'run_A_0063', 'run_A_0064', 'run_A_0065', 'run_A_0066', 'run_A_0068', 'run_A_0067', 'run_A_0069', 'run_A_0071', 'run_A_0070', 'run_A_0072', 'run_A_0073', 'run_A_0074', 'run_A_0075', 'run_A_0076', 'run_A_0077', 'run_A_0078', 'run_A_0079', 'run_A_0080', 'run_A_0081', 'run_A_0083', 'run_A_0082', 'run_A_0084', 'run_A_0085', 'run_A_0087', 'run_A_0086', 'run_A_0088', 'run_A_0090', 'run_A_0089', 'run_A_0092', 'run_A_0091', 'run_A_0093', 'run_A_0095', 'run_A_0094', 'run_A_0096', 'run_A_0097', 'run_A_0098', 'run_A_0099', 'run_B_0037', 'run_A_0100', 'run_B_0038', 'run_B_0039', 'run_B_0040', 'run_B_0041', 'run_B_0042', 'run_B_0043', 'run_B_0044', 'run_B_0045', 'run_B_0046', 'run_B_0047', 'run_B_0048', 'run_B_0049', 'run_B_0050', 'run_B_0051', 'run_B_0052', 'run_B_0053', 'run_B_0054', 'run_B_0055', 'run_B_0056', 'run_B_0057', 'run_B_0058', 'run_B_0059', 'run_B_0060', 'run_B_0061', 'run_B_0062', 'run_B_0063', 'run_B_0064', 'run_B_0065', 'run_B_0066', 'run_B_0068', 'run_B_0069', 'run_B_0070', 'run_B_0071', 'run_B_0072', 'run_B_0073', 'run_B_0074', 'run_B_0075', 'run_B_0076', 'run_B_0077', 'run_B_0078', 'run_B_0079', 'run_B_0081', 'run_B_0080', 'run_B_0082', 'run_B_0083', 'run_B_0084', 'run_B_0085', 'run_B_0087', 'run_B_0086', 'run_B_0088', 'run_B_0089', 'run_B_0090', 'run_B_0091', 'run_B_0092', 'run_B_0093', 'run_B_0094', 'run_B_0095', 'run_B_0096', 'run_B_0097', 'run_B_0098', 'run_B_0099', 'run_C_0037', 'run_B_0100', 'run_C_0038', 'run_C_0039', 'run_C_0041', 'run_C_0040', 'run_C_0042', 'run_C_0043', 'run_C_0046', 'run_C_0044', 'run_C_0045', 'run_C_0047', 'run_C_0048', 'run_C_0050', 'run_C_0049', 'run_C_0051', 'run_C_0052', 'run_C_0053', 'run_C_0054', 'run_C_0056', 'run_C_0055', 'run_C_0057', 'run_C_0059', 'run_C_0058', 'run_C_0060', 'run_C_0061', 'run_C_0063', 'run_C_0062', 'run_C_0064', 'run_C_0065', 'run_C_0066', 'run_C_0069', 'run_C_0067', 'run_C_0068', 'run_C_0070', 'run_C_0072', 'run_C_0071', 'run_C_0074', 'run_C_0076', 'run_C_0073', 'run_C_0077', 'run_C_0078', 'run_C_0075', 'run_C_0079', 'run_C_0081', 'run_C_0080', 'run_C_0082', 'run_C_0083', 'run_C_0084', 'run_C_0085', 'run_C_0086', 'run_C_0087', 'run_C_0089', 'run_C_0088', 'run_C_0090', 'run_C_0091', 'run_C_0093', 'run_C_0092', 'run_C_0094', 'run_C_0096', 'run_C_0095', 'run_C_0097', 'run_C_0099', 'run_C_0098', 'run_D_0038', 'run_D_0037', 'run_C_0100', 'run_D_0039', 'run_D_0040', 'run_D_0041', 'run_D_0042', 'run_D_0043', 'run_D_0044', 'run_D_0045', 'run_D_0046', 'run_D_0047', 'run_D_0048', 'run_D_0049', 'run_D_0050', 'run_D_0051', 'run_D_0052', 'run_D_0053', 'run_D_0054', 'run_D_0055', 'run_D_0056', 'run_D_0057', 'run_D_0058', 'run_D_0059', 'run_D_0060', 'run_D_0061', 'run_D_0062', 'run_D_0063', 'run_D_0064', 'run_D_0065', 'run_D_0066', 'run_D_0067', 'run_D_0068', 'run_D_0069', 'run_D_0070', 'run_D_0071', 'run_D_0072', 'run_D_0073', 'run_D_0074', 'run_D_0075', 'run_D_0076', 'run_D_0077', 'run_D_0078', 'run_D_0079', 'run_D_0080', 'run_D_0081', 'run_D_0082', 'run_D_0083', 'run_D_0084', 'run_D_0085', 'run_D_0086', 'run_D_0087', 'run_D_0088', 'run_D_0089', 'run_D_0090', 'run_D_0091', 'run_D_0092', 'run_D_0093', 'run_D_0094', 'run_D_0095', 'run_D_0096', 'run_D_0098', 'run_D_0099', 'run_D_0097', 'run_E_0039', 'run_E_0037', 'run_D_0100', 'run_E_0040', 'run_E_0038', 'run_E_0041', 'run_E_0042', 'run_E_0043', 'run_E_0044', 'run_E_0045', 'run_E_0046', 'run_E_0047', 'run_E_0050', 'run_E_0049', 'run_E_0048', 'run_E_0051', 'run_E_0054', 'run_E_0052', 'run_E_0053', 'run_E_0055', 'run_E_0056', 'run_E_0058', 'run_E_0057', 'run_E_0059', 'run_E_0061', 'run_E_0060', 'run_E_0062', 'run_E_0064', 'run_E_0063', 'run_E_0065', 'run_E_0066', 'run_E_0067', 'run_E_0068', 'run_E_0069', 'run_E_0070', 'run_E_0071', 'run_E_0072', 'run_E_0073', 'run_E_0074', 'run_E_0075', 'run_E_0076', 'run_E_0077', 'run_E_0078', 'run_E_0079', 'run_E_0080', 'run_E_0081', 'run_E_0082', 'run_E_0083', 'run_E_0084', 'run_E_0085', 'run_E_0086', 'run_E_0087', 'run_E_0088', 'run_E_0089', 'run_E_0090', 'run_E_0091', 'run_E_0092', 'run_E_0093', 'run_E_0095', 'run_E_0094', 'run_E_0096', 'run_E_0098', 'run_E_0097', 'run_E_0099', 'run_E_0100', 'run_fiducial_0037', 'run_fiducial_0039', 'run_fiducial_0040', 'run_fiducial_0038', 'run_fiducial_0041', 'run_fiducial_0042', 'run_fiducial_0043', 'run_fiducial_0044', 'run_fiducial_0045', 'run_fiducial_0046', 'run_fiducial_0047', 'run_fiducial_0049', 'run_fiducial_0048', 'run_fiducial_0051', 'run_fiducial_0050', 'run_fiducial_0052', 'run_fiducial_0053', 'run_fiducial_0054', 'run_fiducial_0056', 'run_fiducial_0055', 'run_fiducial_0059', 'run_fiducial_0057', 'run_fiducial_0058', 'run_fiducial_0061', 'run_fiducial_0060', 'run_fiducial_0062', 'run_fiducial_0063', 'run_fiducial_0064', 'run_fiducial_0065', 'run_fiducial_0068', 'run_fiducial_0066', 'run_fiducial_0067', 'run_fiducial_0071', 'run_fiducial_0069', 'run_fiducial_0070', 'run_fiducial_0073', 'run_fiducial_0074', 'run_fiducial_0072', 'run_fiducial_0075', 'run_fiducial_0077', 'run_fiducial_0076', 'run_fiducial_0079', 'run_fiducial_0080', 'run_fiducial_0078', 'run_fiducial_0082', 'run_fiducial_0083', 'run_fiducial_0081', 'run_fiducial_0085', 'run_fiducial_0084', 'run_fiducial_0086', 'run_fiducial_0087', 'run_fiducial_0088', 'run_fiducial_0090', 'run_fiducial_0089', 'run_fiducial_0091', 'run_fiducial_0092', 'run_fiducial_0093', 'run_fiducial_0094', 'run_fiducial_0095', 'run_fiducial_0100', 'run_fiducial_0096', 'run_fiducial_0097', 'run_fiducial_0098', 'run_fiducial_0099', 'run_original_0037', 'run_original_0038', 'run_original_0039', 'run_original_0040', 'run_original_0041', 'run_original_0042', 'run_original_0043', 'run_original_0044', 'run_original_0045', 'run_original_0046', 'run_original_0047', 'run_original_0048', 'run_original_0049', 'run_original_0050', 'run_original_0051', 'run_original_0052', 'run_original_0053', 'run_original_0054', 'run_original_0056', 'run_original_0055', 'run_original_0057', 'run_original_0058', 'run_original_0059', 'run_original_0060', 'run_original_0061', 'run_original_0062', 'run_original_0063', 'run_original_0064', 'run_original_0065', 'run_original_0066', 'run_original_0067', 'run_original_0068', 'run_original_0069', 'run_original_0070', 'run_original_0071', 'run_original_0073', 'run_original_0072', 'run_original_0074', 'run_original_0075', 'run_original_0076', 'run_original_0077', 'run_original_0078', 'run_original_0079', 'run_original_0080', 'run_original_0081', 'run_original_0083', 'run_original_0082', 'run_original_0085', 'run_original_0084', 'run_original_0086', 'run_original_0088', 'run_original_0087', 'run_original_0089', 'run_original_0092', 'run_original_0090', 'run_original_0091', 'run_original_0093', 'run_original_0094', 'run_original_0095', 'run_original_0096', 'run_original_0097', 'run_original_0098', 'run_original_0099', 'run_original_0100', 'run_original_0101', 'run_original_0102', 'run_original_0103', 'run_original_0104', 'run_original_0106', 'run_original_0105', 'run_original_0107', 'run_original_0108', 'run_original_0110', 'run_original_0109', 'run_original_0111', 'run_original_0113', 'run_original_0112', 'run_original_0114', 'run_original_0115', 'run_original_0116', 'run_original_0117', 'run_original_0118', 'run_original_0120', 'run_original_0119', 'run_original_0121', 'run_original_0122', 'run_original_0123', 'run_original_0124', 'run_original_0125'])\n",
      "\n",
      "\n",
      "inside_outside_allruns.json\n",
      "dict_keys(['run_original', 'run_D', 'run_fiducial', 'run_E', 'run_A', 'run_B'])\n",
      "\n",
      "\n"
     ]
    }
   ],
   "source": [
    "for i in os.listdir('.'):\n",
    "    if i.endswith('.json'):\n",
    "        print(i)\n",
    "        with open(i, 'r') as f:\n",
    "            dictionary = json.load(f)\n",
    "        print(dictionary.keys())\n",
    "        print('\\n')"
   ]
  },
  {
   "cell_type": "code",
   "execution_count": null,
   "id": "16d682c8",
   "metadata": {},
   "outputs": [],
   "source": []
  }
 ],
 "metadata": {
  "kernelspec": {
   "display_name": "Python 3 (ipykernel)",
   "language": "python",
   "name": "python3"
  },
  "language_info": {
   "codemirror_mode": {
    "name": "ipython",
    "version": 3
   },
   "file_extension": ".py",
   "mimetype": "text/x-python",
   "name": "python",
   "nbconvert_exporter": "python",
   "pygments_lexer": "ipython3",
   "version": "3.7.3"
  }
 },
 "nbformat": 4,
 "nbformat_minor": 5
}
